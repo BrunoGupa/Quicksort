{
 "cells": [
  {
   "cell_type": "markdown",
   "metadata": {},
   "source": [
    "# Quicksort Algorithm"
   ]
  },
  {
   "cell_type": "markdown",
   "metadata": {},
   "source": [
    "Sopone we have $n$ different numbers"
   ]
  },
  {
   "cell_type": "code",
   "execution_count": 1,
   "metadata": {},
   "outputs": [],
   "source": [
    "import random\n",
    "# Generate n different random numbers\n",
    "n = 100\n",
    "limit_sup = 1000\n",
    "limit_inf = -1000\n",
    "S = random.sample(range(limit_inf,limit_sup), n)"
   ]
  },
  {
   "cell_type": "code",
   "execution_count": 2,
   "metadata": {},
   "outputs": [],
   "source": [
    "def Quicksort(S):\n",
    "    if len(S) == 1:\n",
    "        return S\n",
    "    elif len(S) == 0:\n",
    "        return None\n",
    "    else:\n",
    "        # Choose the pivot s\n",
    "        s = random.choice(S)\n",
    "        S1 = []\n",
    "        S2 = []\n",
    "        for i in S:\n",
    "            if i < s:\n",
    "                S1.append(i)\n",
    "            elif i > s:\n",
    "                S2.append(i)\n",
    "        S1 = Quicksort(S1)\n",
    "        S2 = Quicksort(S2)\n",
    "        if S1 is None:\n",
    "            if S2 is None:\n",
    "                return [s]\n",
    "            else:\n",
    "                L = [s]\n",
    "                L.extend(S2)\n",
    "                return L\n",
    "        if S2 is None:\n",
    "            S1.append(s)\n",
    "            return S1\n",
    "        S1.append(s)\n",
    "        S1.extend(S2)\n",
    "        return S1\n"
   ]
  },
  {
   "cell_type": "code",
   "execution_count": 3,
   "metadata": {},
   "outputs": [
    {
     "output_type": "execute_result",
     "data": {
      "text/plain": "[-988,\n -945,\n -941,\n -936,\n -929,\n -858,\n -835,\n -798,\n -765,\n -760,\n -756,\n -755,\n -724,\n -720,\n -695,\n -671,\n -655,\n -651,\n -629,\n -628,\n -611,\n -604,\n -550,\n -533,\n -530,\n -490,\n -486,\n -468,\n -421,\n -392,\n -366,\n -339,\n -330,\n -306,\n -302,\n -299,\n -298,\n -292,\n -286,\n -256,\n -249,\n -229,\n -224,\n -195,\n -162,\n -94,\n -90,\n -61,\n -49,\n -45,\n -34,\n -27,\n -25,\n -18,\n 30,\n 36,\n 46,\n 61,\n 75,\n 110,\n 166,\n 209,\n 225,\n 227,\n 233,\n 237,\n 246,\n 268,\n 269,\n 299,\n 432,\n 436,\n 444,\n 451,\n 485,\n 488,\n 494,\n 498,\n 501,\n 515,\n 537,\n 568,\n 580,\n 586,\n 596,\n 621,\n 641,\n 680,\n 696,\n 703,\n 724,\n 730,\n 734,\n 767,\n 828,\n 832,\n 879,\n 898,\n 936,\n 950]"
     },
     "metadata": {},
     "execution_count": 3
    }
   ],
   "source": [
    "Quicksort(S)"
   ]
  },
  {
   "cell_type": "code",
   "execution_count": null,
   "metadata": {},
   "outputs": [],
   "source": []
  }
 ],
 "metadata": {
  "language_info": {
   "codemirror_mode": {
    "name": "ipython",
    "version": 2
   },
   "file_extension": ".py",
   "mimetype": "text/x-python",
   "name": "python",
   "nbconvert_exporter": "python",
   "pygments_lexer": "ipython2",
   "version": "3.7.7-final"
  },
  "orig_nbformat": 2,
  "kernelspec": {
   "name": "python37764bitpytorchenvconda871555cf05a649bcbe938c6eeed2d7c5",
   "display_name": "Python 3.7.7 64-bit ('PytorchEnv': conda)"
  }
 },
 "nbformat": 4,
 "nbformat_minor": 2
}